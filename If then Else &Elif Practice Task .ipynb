{
 "cells": [
  {
   "cell_type": "raw",
   "metadata": {},
   "source": [
    "1) A company decided to give bonus of 5% to employee if his/her year of service is more than 5 years.\n",
    "Ask user for their salary and year of service and print the net bonus amount."
   ]
  },
  {
   "cell_type": "code",
   "execution_count": 1,
   "metadata": {},
   "outputs": [
    {
     "name": "stdout",
     "output_type": "stream",
     "text": [
      "Enter Service Age : 7\n",
      "Enter Salary : 80000\n",
      "Bouns Amount : 4000.0\n"
     ]
    }
   ],
   "source": [
    "Service_age = int(input(\"Enter Service Age : \"))\n",
    "Bonus = None\n",
    "if Service_age > 5 : \n",
    "   Salary = int(input(\"Enter Salary : \"))\n",
    "   Bonus = Salary * 5/100\n",
    "else:\n",
    "  print(\"Service Age is less than 5\")\n",
    "\n",
    "print(f\"Bouns Amount : {Bonus}\")\n"
   ]
  },
  {
   "cell_type": "markdown",
   "metadata": {},
   "source": [
    "\n",
    "2) Write a program to check whether a person is eligible for voting or not. (accept age from user)"
   ]
  },
  {
   "cell_type": "code",
   "execution_count": 3,
   "metadata": {},
   "outputs": [
    {
     "name": "stdout",
     "output_type": "stream",
     "text": [
      "Enter Age : 19\n",
      "Eligible for Vote\n"
     ]
    }
   ],
   "source": [
    "age = int(input(\"Enter Age : \"))\n",
    "if age >= 18 :\n",
    "  print(\"you are Eligible for Vote\")\n",
    "else:\n",
    "  print(\"Not Eligible for Vote\")\n"
   ]
  },
  {
   "cell_type": "markdown",
   "metadata": {},
   "source": [
    "\n",
    "3) Write a program to check whether a number entered by user is even or odd."
   ]
  },
  {
   "cell_type": "code",
   "execution_count": 5,
   "metadata": {},
   "outputs": [
    {
     "name": "stdout",
     "output_type": "stream",
     "text": [
      "Enter Number : 121\n",
      "Number is Odd\n"
     ]
    }
   ],
   "source": [
    "num = int(input(\"Enter Number : \"))\n",
    "if (num % 2) == 0:\n",
    "  print(\"Number is Even\")\n",
    "else:\n",
    "  print(\"Number is Odd\")\n",
    "        "
   ]
  },
  {
   "cell_type": "markdown",
   "metadata": {},
   "source": [
    "4) Write a program to check whether a number is divisible by 7 or not.\n",
    "Show Answer"
   ]
  },
  {
   "cell_type": "code",
   "execution_count": 50,
   "metadata": {},
   "outputs": [
    {
     "name": "stdout",
     "output_type": "stream",
     "text": [
      "Enter Number : 70\n",
      "divisible by 7\n"
     ]
    }
   ],
   "source": [
    "num = int(input(\"Enter Number : \"))\n",
    "if(num % 7) == 0:\n",
    "  print(\"divisible by 7\")\n",
    "else:\n",
    "  print(\"Not divisible by 7\")\n"
   ]
  },
  {
   "cell_type": "raw",
   "metadata": {},
   "source": [
    "5) Write a program to display \n",
    "\"Hello\" if a number entered by user is a multiple of five , otherwise print \"Bye\"."
   ]
  },
  {
   "cell_type": "code",
   "execution_count": 7,
   "metadata": {},
   "outputs": [
    {
     "name": "stdout",
     "output_type": "stream",
     "text": [
      "Enter Number : 7\n",
      "Bye\n"
     ]
    }
   ],
   "source": [
    "Number = int(input(\"Enter Number : \"))\n",
    "if (Number%5) == 0: \n",
    "  print(\"Hello\")\n",
    "else:\n",
    "  print(\"Bye\")\n"
   ]
  },
  {
   "cell_type": "raw",
   "metadata": {},
   "source": [
    "6) Write a program to calculate the electricity bill (accept number of unit from user) according to the following criteria :\n",
    "     Unit                                                     Price  \n",
    "uptp 100 units                                             no charge\n",
    "Next 200 units                                              Rs 5 per unit\n",
    "After 200 units                                             Rs 10 per unit\n",
    "(For example if input unit is 350 than total bill amount is Rs.3500\n",
    "(For example if input unit is 97 than total bill amount is Rs.0\n",
    "(For example if input unit is 150 than total bill amount is Rs.750"
   ]
  },
  {
   "cell_type": "code",
   "execution_count": 13,
   "metadata": {},
   "outputs": [
    {
     "name": "stdout",
     "output_type": "stream",
     "text": [
      "Enter Unit Price : 350\n",
      "Unit Charge 350 Rs 10 per Unit 3500\n"
     ]
    }
   ],
   "source": [
    "Unit = int(input(\"Enter Unit Price : \"))\n",
    "if(Unit <= 100) : \n",
    "  print(\"No Charge\")\n",
    "elif(Unit >= 200 and Unit < 300) :\n",
    "  print(f\"Unit Charge {Unit} Rs 5 per Unit {5 * Unit}\")\n",
    "elif(Unit >= 300) :\n",
    "  print(f\"Unit Charge {Unit} Rs 10 per Unit {10 * Unit}\")\n",
    "\n"
   ]
  },
  {
   "cell_type": "raw",
   "metadata": {},
   "source": [
    "7) Write a program to display the last digit of a number.\n"
   ]
  },
  {
   "cell_type": "code",
   "execution_count": 14,
   "metadata": {},
   "outputs": [
    {
     "name": "stdout",
     "output_type": "stream",
     "text": [
      "Please Enter any Number: 12345698\n",
      "The Last Digit in a Given Number 12345698 = 8\n"
     ]
    }
   ],
   "source": [
    "def lastDigit(num):\n",
    "    return num % 10\n",
    "\n",
    "number = int(input(\"Please Enter any Number: \"))\n",
    "\n",
    "last_digit = lastDigit(number)\n",
    "\n",
    "print(\"The Last Digit in a Given Number %d = %d\" %(number, last_digit))"
   ]
  },
  {
   "cell_type": "code",
   "execution_count": 1,
   "metadata": {},
   "outputs": [
    {
     "name": "stdout",
     "output_type": "stream",
     "text": [
      "Enter a number567\n",
      "7\n"
     ]
    }
   ],
   "source": [
    "userInput = int(input(\"Enter a number\"))\n",
    "print(f\"{userInput % 10}\")\n"
   ]
  },
  {
   "cell_type": "raw",
   "metadata": {},
   "source": [
    "\n",
    "Q8. Write a program to check whether the last digit of a number( entered by user ) is \n",
    "divisible by 3 or not."
   ]
  },
  {
   "cell_type": "code",
   "execution_count": 17,
   "metadata": {},
   "outputs": [
    {
     "name": "stdout",
     "output_type": "stream",
     "text": [
      "Please Enter any Number: 43\n",
      "The Last Digit in a Given Number 43 = 3\n",
      "Enter number is divisible of 3\n"
     ]
    }
   ],
   "source": [
    "def lastDigit(num):\n",
    "    return num % 10\n",
    "\n",
    "number = int(input(\"Please Enter any Number: \"))\n",
    "\n",
    "last_digit = lastDigit(number)\n",
    "\n",
    "print(f\"The Last Digit in a Given Number {number} = {last_digit}\")\n",
    "\n",
    "if (last_digit%3) == 0: \n",
    "  print(\"Enter number is divisible of 3\")\n",
    "else:\n",
    "  print(\"Enter number is not divisible of 3\")\n"
   ]
  },
  {
   "cell_type": "code",
   "execution_count": null,
   "metadata": {},
   "outputs": [],
   "source": []
  },
  {
   "cell_type": "raw",
   "metadata": {},
   "source": [
    "9) Take values of length and breadth of a rectangle from user and check if it is square or not."
   ]
  },
  {
   "cell_type": "code",
   "execution_count": 20,
   "metadata": {},
   "outputs": [
    {
     "name": "stdout",
     "output_type": "stream",
     "text": [
      "Enter Lenght : 16\n",
      "Enter Breath : 16\n",
      "it is square\n"
     ]
    }
   ],
   "source": [
    "Lenght = int(input(\"Enter Lenght : \"))\n",
    "Breath = int(input(\"Enter Breath : \"))\n",
    "if(Lenght == Breath):\n",
    "  print(\"it is square\")\n",
    "else:\n",
    "  print(\"it is not square\")\n"
   ]
  },
  {
   "cell_type": "raw",
   "metadata": {},
   "source": [
    "10) Take two int values from user and print greatest among them."
   ]
  },
  {
   "cell_type": "code",
   "execution_count": 21,
   "metadata": {},
   "outputs": [
    {
     "name": "stdout",
     "output_type": "stream",
     "text": [
      "Enter Number 1 : 56\n",
      "Enter Number 2 : 23\n",
      "Number 1 is greater than Number 2\n"
     ]
    }
   ],
   "source": [
    "num1 = int(input(\"Enter Number 1 : \"))\n",
    "num2 = int(input(\"Enter Number 2 : \"))\n",
    "if(num1 > num2) :\n",
    "  print(\"Number 1 is greater than Number 2\")\n",
    "else:\n",
    "  print(\"Number 2 is greater than Number 1\")"
   ]
  },
  {
   "cell_type": "raw",
   "metadata": {},
   "source": [
    "11) A shop will give discount of 10% if the cost of purchased quantity is more than 1000.\n",
    "Ask user for quantity\n",
    "Suppose, one unit will cost 100.\n",
    "Judge and print total cost for user.\n"
   ]
  },
  {
   "cell_type": "code",
   "execution_count": 22,
   "metadata": {},
   "outputs": [
    {
     "name": "stdout",
     "output_type": "stream",
     "text": [
      "Enter unit : 12\n",
      "Total : 1080.0\n"
     ]
    }
   ],
   "source": [
    "Unit = int(input(\"Enter unit : \"))\n",
    "Total = Unit * 100\n",
    "Discount = None\n",
    "if(Total > 1000) :\n",
    "    Discount = Total * 10/100\n",
    "    Total = Total - Discount\n",
    "print(f\"Total : {Total}\");\n",
    "\n"
   ]
  },
  {
   "cell_type": "raw",
   "metadata": {},
   "source": [
    "12) A school has following rules for grading system:\n",
    "\n",
    "a. Below 25 - F\n",
    "\n",
    "b. 25 to 45 - E\n",
    "\n",
    "c. 45 to 50 - D\n",
    "\n",
    "d. 50 to 60 - C\n",
    "\n",
    "e. 60 to 80 - B\n",
    "\n",
    "f. Above 80 - A\n",
    "\n",
    "Ask user to enter marks and print the corresponding grade."
   ]
  },
  {
   "cell_type": "code",
   "execution_count": 24,
   "metadata": {},
   "outputs": [
    {
     "name": "stdout",
     "output_type": "stream",
     "text": [
      "Enter marks : 56\n",
      "C\n"
     ]
    }
   ],
   "source": [
    "Percentile = int(input(\"Enter marks : \"))\n",
    "Grade = None\n",
    "if Percentile > 80:\n",
    "  Grade = \"A\"\n",
    "elif Percentile >= 61 and Percentile <= 80:\n",
    "  Grade = \"B\"\n",
    "elif Percentile >= 51 and Percentile <= 60:\n",
    "  Grade = \"C\"\n",
    "elif Percentile >= 45 and Percentile <= 50:\n",
    "  Grade = \"D\"\n",
    "elif Percentile >= 25 and Percentile <= 44:\n",
    "  Grade = \"E\"\n",
    "else:\n",
    "  Grade = \"F\"\n",
    "print(Grade)\n",
    "\n"
   ]
  },
  {
   "cell_type": "raw",
   "metadata": {},
   "source": [
    "13) Take input of age of 3 people by user and determine oldest and youngest among them."
   ]
  },
  {
   "cell_type": "code",
   "execution_count": 25,
   "metadata": {},
   "outputs": [
    {
     "name": "stdout",
     "output_type": "stream",
     "text": [
      "Enter 1 Person Age : 41\n",
      "Enter 2 Person Age : 25\n",
      "Enter 3 Person Age : 38\n",
      "1 Person age is greater\n"
     ]
    }
   ],
   "source": [
    "Person1 = int(input(\"Enter 1 Person Age : \"))\n",
    "Person2 = int(input(\"Enter 2 Person Age : \"))\n",
    "Person3 = int(input(\"Enter 3 Person Age : \"))\n",
    "if(Person1 > Person2 and Person1 > Person3):\n",
    "  print(\"1 Person age is greater\")\n",
    "elif(Person2 > Person1 and Person2 > Person3):\n",
    "  print(\"2 Person age is greater\")\n",
    "elif(Person3 > Person2 and Person3 > Person1):\n",
    "  print(\"3 Person age is greater\")\n",
    "\n",
    "\n"
   ]
  },
  {
   "cell_type": "raw",
   "metadata": {},
   "source": [
    "14)A student will not be allowed to sit in exam if his/her attendence is less than 75%.\n",
    "\n",
    "Take following input from user\n",
    "\n",
    "Number of classes held\n",
    "\n",
    "Number of classes attended.\n",
    "\n",
    "And print\n",
    "\n",
    "percentage of class attended\n",
    "\n",
    "Is student is allowed to sit in exam or not.\n"
   ]
  },
  {
   "cell_type": "code",
   "execution_count": 29,
   "metadata": {},
   "outputs": [
    {
     "name": "stdout",
     "output_type": "stream",
     "text": [
      "Enter total classes held : 84\n",
      "Enter classes attended by student :75\n",
      "Student is allowed to sit in exam because his/her percentage is above 75\n"
     ]
    }
   ],
   "source": [
    "totalClasses = int(input(\"Enter total classes held : \"))\n",
    "\n",
    "classesAttended = int(input(\"Enter classes attended by student :\"))\n",
    "\n",
    "\n",
    "if (classesAttended <= totalClasses):\n",
    "    percentage = (classesAttended / totalClasses) * 100;\n",
    "    if ((percentage < 75) and (percentage >= 0)):\n",
    "        print(\"Student is not allowed to sit in exam because his/her percentage is below 75\")\n",
    "    else:\n",
    "         print(\"Student is allowed to sit in exam because his/her percentage is above 75\")\n",
    "else:\n",
    "    print(\"Attended classes cannot be more than total classes held!\")\n",
    "        \n",
    "        \n",
    "        "
   ]
  },
  {
   "cell_type": "raw",
   "metadata": {},
   "source": [
    "15) Modify the above question to allow student to sit if he/she has medical cause. Ask user if he/she has medical cause or not ( 'Y' or 'N' ) and print accordingly."
   ]
  },
  {
   "cell_type": "code",
   "execution_count": 32,
   "metadata": {},
   "outputs": [
    {
     "name": "stdout",
     "output_type": "stream",
     "text": [
      "Number of classes held84\n",
      "Number of classes attended75\n",
      "Attendence is 89.28571428571429\n",
      "Medical cause? Y or Ny\n",
      "You are allowed\n"
     ]
    }
   ],
   "source": [
    "noh = float(input(\"Number of classes held\"))\n",
    "noa = float(input(\"Number of classes attended\"))\n",
    "atten = (noa/noh)*100\n",
    "print(f\"Attendence is {atten}\")\n",
    "\n",
    "medical_cause = input(\"Medical cause? Y or N\").upper()\n",
    "\n",
    "if medical_cause == 'Y':\n",
    "  print(\"You are allowed\")\n",
    "else:\n",
    "  if atten>=75:\n",
    "    print(\"Allowed\")\n",
    "  else:\n",
    "    print(\"Not allowed\")"
   ]
  },
  {
   "cell_type": "raw",
   "metadata": {},
   "source": [
    "16) Write a program to check if a year is leap year or not.\n",
    "\n",
    "If a year is divisible by 4 then it is leap year but if the year is century year like 2000, 1900, 2100 then it must be divisible by 400."
   ]
  },
  {
   "cell_type": "code",
   "execution_count": 38,
   "metadata": {},
   "outputs": [
    {
     "name": "stdout",
     "output_type": "stream",
     "text": [
      "Enter a year: 2020\n",
      " is a leap year.\n"
     ]
    }
   ],
   "source": [
    "year = int(input(\"Enter a year: \"));\n",
    "if (year % 400 == 0) :\n",
    "    print(f\" is a leap year.\")\n",
    "elif (year % 100 == 0) :\n",
    "    print(\" is not a leap year.\")\n",
    "elif (year % 4 == 0) :\n",
    "    print(\" is a leap year.\")\n",
    "else :\n",
    "    print(\" is not a leap year.\")\n",
    "    "
   ]
  },
  {
   "cell_type": "raw",
   "metadata": {},
   "source": [
    "17) Ask user to enter age, gender ( M or F ), marital status ( Y or N ) and then using following rules print their place of service.\n",
    "\n",
    "if employee is female, then she will work only in urban areas.\n",
    "\n",
    "if employee is a male and age is in between 20 to 40 then he may work in anywhere\n",
    "\n",
    "if employee is male and age is in between 40 t0 60 then he will work in urban areas only.\n",
    "\n",
    "And any other input of age should print \"ERROR\""
   ]
  },
  {
   "cell_type": "code",
   "execution_count": 48,
   "metadata": {},
   "outputs": [
    {
     "name": "stdout",
     "output_type": "stream",
     "text": [
      "Enter age18\n",
      "Enter sex: M/Ff\n",
      "Are you married? Y/Nn\n",
      "You will work only in urban areas\n"
     ]
    }
   ],
   "source": [
    "Age = int(input(\"Enter age\"))\n",
    "sex = input(\"Enter sex: M/F\").upper()\n",
    "married = input(\"Are you married? Y/N\").upper()\n",
    "\n",
    "if(sex == 'F') :\n",
    "    print(\"You will work only in urban areas\");\n",
    "elif(sex == 'M') :\n",
    "    if((age >= 20) and (age < 40)) :\n",
    "        print(\"You may work anywhere\");\n",
    "    elif((age >= 40) and (age < 60)) :\n",
    "        print(\"You will work in urban areas only\");\n",
    "else:      \n",
    "    print(\"ERROR\");\n",
    "    "
   ]
  },
  {
   "cell_type": "code",
   "execution_count": null,
   "metadata": {},
   "outputs": [],
   "source": []
  }
 ],
 "metadata": {
  "kernelspec": {
   "display_name": "Python 3",
   "language": "python",
   "name": "python3"
  },
  "language_info": {
   "codemirror_mode": {
    "name": "ipython",
    "version": 3
   },
   "file_extension": ".py",
   "mimetype": "text/x-python",
   "name": "python",
   "nbconvert_exporter": "python",
   "pygments_lexer": "ipython3",
   "version": "3.8.8"
  }
 },
 "nbformat": 4,
 "nbformat_minor": 2
}
